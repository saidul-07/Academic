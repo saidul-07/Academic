{
 "cells": [
  {
   "cell_type": "markdown",
   "metadata": {
    "id": "fo17hYk7c_kx"
   },
   "source": [
    "# Define a Class"
   ]
  },
  {
   "cell_type": "code",
   "execution_count": 3,
   "metadata": {
    "colab": {
     "base_uri": "https://localhost:8080/",
     "height": 263
    },
    "executionInfo": {
     "elapsed": 425,
     "status": "error",
     "timestamp": 1710823653602,
     "user": {
      "displayName": "Md. Rajibul Islam",
      "userId": "08268230525053899276"
     },
     "user_tz": -360
    },
    "id": "uoC_DyD0RBaM",
    "outputId": "560c8d49-d568-4824-aa0d-eaeecf4ea777"
   },
   "outputs": [
    {
     "name": "stdout",
     "output_type": "stream",
     "text": [
      "<__main__.person object at 0x7e1cd7dacd90>\n",
      "<__main__.person object at 0x7e1cd7dacd90>\n",
      "Sakib\n",
      "Hasan\n",
      "Destructor called, person deleted.\n"
     ]
    },
    {
     "ename": "NameError",
     "evalue": "name 'myname' is not defined",
     "output_type": "error",
     "traceback": [
      "\u001b[0;31m---------------------------------------------------------------------------\u001b[0m",
      "\u001b[0;31mNameError\u001b[0m                                 Traceback (most recent call last)",
      "\u001b[0;32m<ipython-input-3-14d3cdb5a8ad>\u001b[0m in \u001b[0;36m<cell line: 15>\u001b[0;34m()\u001b[0m\n\u001b[1;32m     13\u001b[0m \u001b[0mprint\u001b[0m\u001b[0;34m(\u001b[0m\u001b[0mmyname\u001b[0m\u001b[0;34m.\u001b[0m\u001b[0mlast\u001b[0m\u001b[0;34m)\u001b[0m\u001b[0;34m\u001b[0m\u001b[0;34m\u001b[0m\u001b[0m\n\u001b[1;32m     14\u001b[0m \u001b[0;32mdel\u001b[0m \u001b[0mmyname\u001b[0m\u001b[0;34m\u001b[0m\u001b[0;34m\u001b[0m\u001b[0m\n\u001b[0;32m---> 15\u001b[0;31m \u001b[0mmyname\u001b[0m\u001b[0;34m.\u001b[0m\u001b[0mfirst\u001b[0m\u001b[0;34m\u001b[0m\u001b[0;34m\u001b[0m\u001b[0m\n\u001b[0m",
      "\u001b[0;31mNameError\u001b[0m: name 'myname' is not defined"
     ]
    }
   ],
   "source": [
    "#__init__() is not a constructor, The function __init__() is called immediately after\n",
    "# the object is created and is used to initialize it.\n",
    "class person:\n",
    "      def __init__(self,firstname,lastname):\n",
    "          print(self)\n",
    "          self.first = firstname\n",
    "          self.last = lastname\n",
    "      def __del__(self):\n",
    "         print('Destructor called, person deleted.')\n",
    "myname = person(\"Sakib\",\"Hasan\")\n",
    "print(myname)\n",
    "print(myname.first)\n",
    "print(myname.last)\n",
    "del myname\n",
    "myname.first"
   ]
  },
  {
   "cell_type": "markdown",
   "metadata": {
    "id": "JRzD0X4SxK5x"
   },
   "source": [
    "# __new__() method\n",
    "\n",
    "*   __new__() is always called before __init__().\n",
    "* First argument is the class itself which is passed implicitly.\n",
    "* Always return a valid object from __new__(). Not mandatory, but its main use is to create and return an object"
   ]
  },
  {
   "cell_type": "code",
   "execution_count": null,
   "metadata": {
    "colab": {
     "base_uri": "https://localhost:8080/"
    },
    "executionInfo": {
     "elapsed": 374,
     "status": "ok",
     "timestamp": 1710823835957,
     "user": {
      "displayName": "Md. Rajibul Islam",
      "userId": "08268230525053899276"
     },
     "user_tz": -360
    },
    "id": "vFK76y7yv3p6",
    "outputId": "021ecd11-dcb2-46d1-888d-24be8816b7b1"
   },
   "outputs": [
    {
     "name": "stdout",
     "output_type": "stream",
     "text": [
      "Inside new method....\n",
      "<class '__main__.person'>\n",
      "('Sakib', 'Hasan')\n",
      "{}\n",
      "Inside init method....\n",
      "Sakib\n",
      "Hasan\n"
     ]
    }
   ],
   "source": [
    "#__new method\n",
    "class person:\n",
    "\n",
    "    def __new__(cls,*args,**kwargs):\n",
    "        print(\"Inside new method....\")\n",
    "        print(cls)\n",
    "        print(args)\n",
    "        print(kwargs)\n",
    "        # create our object and return it\n",
    "        obj = super().__new__(cls)\n",
    "        return obj\n",
    "\n",
    "    def __init__(self,firstname,lastname):\n",
    "          print(\"Inside init method....\")\n",
    "          self.first = firstname\n",
    "          self.last = lastname\n",
    "\n",
    "\n",
    "myname =  (\"Sakib\",\"Hasan\")\n",
    "print(myname.first)\n",
    "print(myname.last)"
   ]
  },
  {
   "cell_type": "code",
   "execution_count": null,
   "metadata": {},
   "outputs": [
    {
     "name": "stdout",
     "output_type": "stream",
     "text": [
      "True\n"
     ]
    }
   ],
   "source": [
    "def val(a):\n",
    "    for i in range(1,5):\n",
    "        if a== i:\n",
    "            return True\n",
    "    return False\n",
    "print(val(3))\n",
    "\n",
    "x = 'a'\n",
    "x.d"
   ]
  },
  {
   "cell_type": "code",
   "execution_count": 7,
   "metadata": {
    "colab": {
     "base_uri": "https://localhost:8080/"
    },
    "executionInfo": {
     "elapsed": 438,
     "status": "ok",
     "timestamp": 1710825358738,
     "user": {
      "displayName": "Md. Rajibul Islam",
      "userId": "08268230525053899276"
     },
     "user_tz": -360
    },
    "id": "8AMPuwd2xxmO",
    "outputId": "6de27269-c6f9-4e3d-fdb2-64aac3cdb5f1"
   },
   "outputs": [
    {
     "name": "stdout",
     "output_type": "stream",
     "text": [
      "Inside new method....\n",
      "Inside init method....\n",
      "1\n",
      "Inside new method....\n",
      "Inside init method....\n",
      "2\n",
      "Inside new method....\n",
      "Inside init method....\n",
      "3\n",
      "Inside new method....\n",
      "Inside init method....\n",
      "4\n"
     ]
    }
   ],
   "source": [
    "# restrict the number of objects created from a class.\n",
    "class Person1:\n",
    "    MAX_Inst = 4\n",
    "    Inst_created = 0\n",
    "\n",
    "    def __new__(cls,*args,**kwargs):\n",
    "        if (cls.Inst_created >= cls.MAX_Inst):\n",
    "            raise ValueError(\"Cannot create more objects\")\n",
    "        cls.Inst_created += 1\n",
    "        print('Inside new method....')\n",
    "        return super().__new__(cls)\n",
    "\n",
    "    def __init__(self,firstname,lastname):\n",
    "          print(\"Inside init method....\")\n",
    "          self.first = firstname\n",
    "          self.last = lastname\n",
    "\n",
    "\n",
    "myname1 = Person1(\"Sakib\",\"Hasan1\")\n",
    "print(Person1.Inst_created)\n",
    "myname2 = Person1(\"Sakib\",\"Hasan2\")\n",
    "print(Person1.Inst_created)\n",
    "myname3 = Person1(\"Sakib\",\"Hasan3\")\n",
    "print(Person1.Inst_created)\n",
    "myname4 = Person1(\"Sakib\",\"Hasan4\")\n",
    "print(Person1.Inst_created)\n",
    "# myname5 = Person1(\"Sakib\",\"Hasan5\")\n",
    "\n"
   ]
  },
  {
   "cell_type": "code",
   "execution_count": 9,
   "metadata": {
    "colab": {
     "base_uri": "https://localhost:8080/"
    },
    "executionInfo": {
     "elapsed": 1093,
     "status": "ok",
     "timestamp": 1710825575139,
     "user": {
      "displayName": "Md. Rajibul Islam",
      "userId": "08268230525053899276"
     },
     "user_tz": -360
    },
    "id": "RrhVaC-NSIPi",
    "outputId": "28eed4a9-52f6-4040-c887-aa37ccc86f0b"
   },
   "outputs": [
    {
     "data": {
      "text/plain": [
       "25.0"
      ]
     },
     "execution_count": 9,
     "metadata": {},
     "output_type": "execute_result"
    }
   ],
   "source": [
    "class MyCompany:\n",
    "\n",
    "    # methods\n",
    "    def __init__(self, compname, revenue, employeesize):\n",
    "        self.name = compname\n",
    "        self.revenue = revenue\n",
    "        self.no_of_employees = employeesize\n",
    "\n",
    "    def productivity(self):\n",
    "        return self.revenue/self.no_of_employees\n",
    "\n",
    "Bank = MyCompany('ABC Bank', 5000,200)\n",
    "# Bank.productivity()\n",
    "\n",
    "MyCompany.productivity(Bank)"
   ]
  },
  {
   "cell_type": "markdown",
   "metadata": {
    "id": "n5-sErZQTO3J"
   },
   "source": [
    "##**Variables::**\n",
    "one which is declared inside __init__  are called **Instance Variables** or local variables and One which is defined outside of methods are called **Class Variables or global variables**. You can access these variables anywhere in the class.*"
   ]
  },
  {
   "cell_type": "code",
   "execution_count": null,
   "metadata": {
    "colab": {
     "base_uri": "https://localhost:8080/"
    },
    "executionInfo": {
     "elapsed": 383,
     "status": "ok",
     "timestamp": 1710777660036,
     "user": {
      "displayName": "Md. Rajibul Islam",
      "userId": "08268230525053899276"
     },
     "user_tz": -360
    },
    "id": "ZfPWWTt4SJhA",
    "outputId": "03a01d8d-4eab-446b-c2db-66db6305251d"
   },
   "outputs": [
    {
     "data": {
      "text/plain": [
       "0.1"
      ]
     },
     "execution_count": 7,
     "metadata": {},
     "output_type": "execute_result"
    }
   ],
   "source": [
    "class MyCompany:\n",
    "    #Class Variable\n",
    "    growth = 0.1\n",
    "\n",
    "    def __init__(self, compname, revenue, employeesize):\n",
    "        #Instance Variables\n",
    "        self.name = compname\n",
    "        self.revenue = revenue\n",
    "        self.no_of_employees = employeesize\n",
    "\n",
    "MyCompany.growth"
   ]
  },
  {
   "cell_type": "markdown",
   "metadata": {
    "id": "JJGhA0Jca4KA"
   },
   "source": [
    "## **Methods**\n",
    "\n",
    "* **Instance Method** takes self as the first argument. They are also called Object or regular method.\n",
    "* **Class Method** takes cls as the first argument. cls refers to class. To access a class variable within a method, we use the **@classmethod** decorator, and pass the class to the method\n",
    "* **Static Method** doesn't take anything as the first argument.\n",
    "\n",
    "\n",
    "\n"
   ]
  },
  {
   "cell_type": "code",
   "execution_count": 20,
   "metadata": {
    "colab": {
     "base_uri": "https://localhost:8080/"
    },
    "executionInfo": {
     "elapsed": 378,
     "status": "ok",
     "timestamp": 1710829526866,
     "user": {
      "displayName": "Md. Rajibul Islam",
      "userId": "08268230525053899276"
     },
     "user_tz": -360
    },
    "id": "50QdMNvPbByc",
    "outputId": "b1f68b1d-918b-4e8c-be51-ad9f89917ce6"
   },
   "outputs": [
    {
     "name": "stdout",
     "output_type": "stream",
     "text": [
      "['__class__', '__delattr__', '__dict__', '__dir__', '__doc__', '__eq__', '__format__', '__ge__', '__getattribute__', '__gt__', '__hash__', '__init__', '__init_subclass__', '__le__', '__lt__', '__module__', '__ne__', '__new__', '__reduce__', '__reduce_ex__', '__repr__', '__setattr__', '__sizeof__', '__str__', '__subclasshook__', '__weakref__', 'avgnoofpassengers', 'billvalidation', 'noofcabs', 'numberofcabs', 'numpassengers', 'rateperkm']\n"
     ]
    }
   ],
   "source": [
    "class Cab:\n",
    "\n",
    "    #Initialise variables for first iteration\n",
    "    numberofcabs  = 0\n",
    "    numpassengers = 0\n",
    "\n",
    "    def __init__(self,driver,kms,places,pay,passengers):\n",
    "        self.driver = driver\n",
    "        self.running = kms\n",
    "        self.places = places\n",
    "        self.bill = pay\n",
    "        Cab.numberofcabs  =  Cab.numberofcabs + 1\n",
    "        Cab.numpassengers =  Cab.numpassengers + passengers\n",
    "\n",
    "    #Returns price of cab fare per km\n",
    "    def rateperkm(self):\n",
    "        return self.bill/self.running\n",
    "\n",
    "    #Returns number of cabs running\n",
    "    @classmethod\n",
    "    def noofcabs(cls):\n",
    "        return cls.numberofcabs\n",
    "\n",
    "    #Returns average number of passengers travelling in a cab\n",
    "    @classmethod\n",
    "    def avgnoofpassengers(cls):\n",
    "        return int(cls.numpassengers/cls.numberofcabs)\n",
    "\n",
    "    @staticmethod\n",
    "    def billvalidation(pay):\n",
    "        return int(pay) > 0\n",
    "print (dir(Cab))\n"
   ]
  },
  {
   "cell_type": "code",
   "execution_count": 16,
   "metadata": {
    "colab": {
     "base_uri": "https://localhost:8080/"
    },
    "executionInfo": {
     "elapsed": 379,
     "status": "ok",
     "timestamp": 1710826796468,
     "user": {
      "displayName": "Md. Rajibul Islam",
      "userId": "08268230525053899276"
     },
     "user_tz": -360
    },
    "id": "FUXibZzmdLVE",
    "outputId": "d391680a-15de-4f33-d6bb-fa339bc3968d"
   },
   "outputs": [
    {
     "name": "stdout",
     "output_type": "stream",
     "text": [
      "Ramesh\n",
      "Suresh\n",
      "Dave\n",
      "27.5\n",
      "25.0\n",
      "34.0\n",
      "3\n",
      "2\n",
      "False\n"
     ]
    }
   ],
   "source": [
    "firstcab  = Cab(\"Ramesh\", 80, ['Delhi', 'Noida'], 2200, 3)\n",
    "secondcab = Cab(\"Suresh\", 60, ['Gurgaon', 'Noida'], 1500, 1)\n",
    "thirdcab  = Cab(\"Dave\", 20, ['Gurgaon', 'Noida'], 680, 2)\n",
    "\n",
    "print(firstcab.driver)\n",
    "\n",
    "print(secondcab.driver)\n",
    "\n",
    "print(thirdcab.driver)\n",
    "\n",
    "print(firstcab.rateperkm())\n",
    "\n",
    "print(secondcab.rateperkm())\n",
    "\n",
    "print(thirdcab.rateperkm())\n",
    "\n",
    "print(Cab.noofcabs())\n",
    "\n",
    "print(Cab.avgnoofpassengers())\n",
    "\n",
    "print(Cab.billvalidation(0.2))"
   ]
  },
  {
   "cell_type": "code",
   "execution_count": null,
   "metadata": {
    "id": "kPeGiHhVd01j"
   },
   "outputs": [],
   "source": []
  },
  {
   "cell_type": "markdown",
   "metadata": {
    "id": "R28j1JuNeZEZ"
   },
   "source": [
    "# Inheritance\n",
    "![cab_bus.PNG](data:image/png;base64,iVBORw0KGgoAAAANSUhEUgAAAMAAAADJCAIAAAD6saqYAAAAA3NCSVQICAjb4U/gAAAAX3pUWHRSYXcgcHJvZmlsZSB0eXBlIEFQUDEAAAiZ40pPzUstykxWKCjKT8vMSeVSAANjEy4TSxNLo0QDAwMLAwgwNDAwNgSSRkC2OVQo0QAFmJibpQGhuVmymSmIzwUAT7oVaBst2IwAAA8fSURBVHic7Z1PTBtXHsd/XnL2KaoP0QqSiesWBykWcuUmEmog8oJrbSpkluSQlaMIg+rKbCJa6krrgyvVTWulC4qrAIpibQ5tgoXaFTXICrSLWmqthUBKSNdxJhhVOXjFae5R9jDjmTF48OA3nj/m9xEHe/xmePPlO7/3bM/7Ynr16hUgSL38QesOIMYGDYQQgQZCiDjCPzKZTBr2QxH0P59rPpGPiJ+09v1d3c4oyfbCp1p3QRZNJjIOYQgRaCCECDQQQgQaCCFCKwN13ElHizPnT2n06xGlOFK7yYHovlgca+cev1jxDj18rPAvQDrupAd6hKdPxjzfprTrjZIV6NSVUHGsHbKzbZ5ImyfiXW2/dcWi4PERgRcrXk+k7YOVIrTHNS3kClagjmsDRwGejEUfsc8f3518h30kKkvF2cQ7d0v8Pn+OROddAABL8cjVZeX6ckh4XqIB2o4dfQPg8YnzP93qasvOtkUfAVg+mQkGju1MfzD52XPwRaJxFwAAcK8qiXIVqNveAwDZzd3l9MT5ny7teD2RNk9i+gW0DZzz8S8d66J+5rb3jIU+OaFYXw4LJywUVNNcTPfFuAuKs4k2T8T7u11xkRWrQKdaX6v+wvOH7wyxj0pPfwc49trrJwCeAwDAi5WvlgGg9K/VncDAUaqtvB2pybGu+XQX+3Dp59pFpe1Mx6m7pcd3v1V8SqpYBXq8/T+pl3yRaDEdLabLhVQCqhUnTLJh50Bc8Y7e6ZZuufztWJY1XLSYvuiTblgfyg1hxZ0iALjsu7p46koo7oKleKTNExnL7ncAeru038tIFUr/Wt2BWtdeKhpp80S8szsA7R8o/bZGOQM9f3grCwDt8UgHt6X74k9cd3foIgB09O2qQMe6rnUDP/tewEn0wXnjj0cBdjL/LrETau4C7j4XOMY1OHUlxP4V9hkiSFDyc6BUNPLfK6H5gYFiegCA/Ryo9Bh+XBoYCNyKBgCWsk/AJUyVirOz9KVocQwAYCmu5YcZxkM8B4pPfvYcAB5djduLY+3xdDT+YmVsdic+AADw+O79zEywOAAAANlZ8VtgRTDxt3eYTCaj32lgiPuBmkxk/C4MIQINhBCBBkKIqJgDadsVcgwxB9K6C6Tsd080wzDqdkZJzGaz1l2QRZOJjEMYQgQaCCECDYQQgQZCiEADIUSggRAi0EAIEWgghAg0EEKEEgbKhMw9CVqBA+mBZwvDJpPJZBpeeFbetDB8xmQymc7849l+OzYYvYrc2AqUCZn1edoSPFsYtnqmAQLpwlTfyfLWvqnVdOBt+PWaVVsPSaCtyEqvTK3EPWmkL36quoelb2o1DWc809esZ6Cw+reT1Q+gDdqKXG8FohM9ZpaeRIHfmgmZexKJkNlsNptDGfbiCGVA9IDfuXzNCAcStdh9HBVYGDZJuYelb2o1HQBV65ARRK7PQHQiEIbYOsMwDDOeDydFL+XCYUgxDMNMukVb3V4/JOe5XtKLczlnfy8FAJmQI2xPMQzDMMx6bNMnlOLqx2kQnHsAYNpjNUnCtfn1mlU0Q2oYxhC5LgPRi3M5/3iQYrs9mfKLX/SnqvVGdHLCqdGJG0lnbJRrTgXH/bm5RXrf4xweDCJyfQbK5w68D39yFcIA5MIOvrr6kvX0RgH6pl6lAwAA8PZXhVeSCG0khjklMYjIdU2iKZsT8gfdyT0aczrmM6O2uZx/XLC9P6XKIFWTvqlXaTDtM03mhrm3v1JpEm0QkeuqQJTVDskb7EhKJ3pkeprq7XcmbwTmcn6vW7xFN2/z+6YKUtNktd0DhhG5vkm0e3I9BmxZdOTH12NOWXtRvf3OXE44NQAquLTePyeUV60/NDopeKjig0TV3QNgFJErbqo3+u26hripvslExu/CECLQQAgRaCCECDQQQgQaCCECDYQQgQZCiEADIURgOoeqNJ/ImM6hNk0mMg5hCBFoIIQINBBCBBoIIQINhBCBBkKIQAMhRKCBECLQQAgRChqITvQosw65comuyug1nYNDdyJjBRJjyHQObUEDCdRI50APVUOugSpKZ0X521ULM6Eqq4+qpkPss71qi8auGdNDOocRRZZrIKq331lOfqAL4BQ92QRhFVvSd8O2zjAMk/LnwhNcb6XSIaRTI4QzC/AtmCV+qbfi6CSdw4giyx7CKKudS36gF+dgfNy/WaCBW8UvrIL0p7geuL1+4FpIpEPsmxohgg8sOQQYUGT5cyC+t3Te7nVTNphbpHefmhRS6RC1UiOo4NJ6bNPX8AFMN+kcxhP5AOkcbq/fd2ORtuY3baNAUf0QWKSteTmnVjUdgpbYvgsquMQEATIhsyNkbWCQh07SOQwn8kHehbm9/tzcxPym3UoBUFZ7Lj8xn6x5alLpEAdLjaBs8rIFSNBFOofRRD7Q23i3159LJu3s2bi9/mSy9qlJp0PISI3g322YHWG7CollekjnMJjImM6hKs0nMn6QiBCBBkKIQAMhRKCBECLQQAgRaCCECDQQQgQaCCEC0zlUpflExnQOtWkykXEIQ4hAAyFEoIEQItBACBFoIIQINBBCBBoIIQINhBCBBkKIQAPtQufpHLpDYwMpllaiDM2ZztFQkbECCWA6Rx2QGqhasINEHIRocyjDPXeEc5D08TurlsWxFz2kc0ihZ5HJ1oXRiR5HfrxyLWwmZPYBt5qWTvQ45vrXl4IUZEI9hdGlIFWxsfIA1Y4mH5J1YUI6h0ykfbY/zScy+RBWGewgGQfhniwnh1C9/c5cXsL6hymL4wDoV2QyA1UPdqgeByFUTkc4d4CjqYFu0jmqoW+RiSsQFVxiGIZJ2cOO8lDsL6cViTKLKnOOJNfwVzmaSnAekp7iqLtCvhIdi6zUu7BysIOMOIjMROXFwUYkVT2auuginWM/dCkyX58BgDkoKb9wIOGSqDS/M7Ze2dYZi/n51uW2zti6xNHkIj4XAgrcOBVI82OZnNFNJs0nMqZzqErziYwfJCJEoIEQItBACBFoIIQINBBCBBoIIQINhBCBBkKIwHQOVWk+kTGdQ22aTGQcwhAi0EAIEWgghAg0EEIEGgghAg2EEIEGQohAAyFEoIEQIpQykM5SEupHz+kcehQZK5CY5kznaChoIAFM56iDBhgoExLlQPQkaP6/AocywtJbYVmthokcYvSczlEF3YistIEyIbNvM7ZeXuMPubBj3sstbkv6zI78OPsEwgHu9AP8alyG30tthHSOaY/VJAnXpvKfgmuAnkRW1ECFRE/FiQEA+Ln/RE719juFJ1Y7CNkRmMhxEHQmspIGSoYlEiH2QbtEDjG6TueoRG8iK2kgf0pUNuWjXSKHGF2nc4jQm8gKz4Go4HQM6uujNokcYnSfzsGhK5GP1G5yMKjgUipv9vXY1peCMppnQkI8kj/F1Be8phgn+6YKabB6pq9Zh238OKUr9wCArkTGdA5VaT6R8YNEhAg0EEIEGgghAg2EEIEGQohAAyFEoIEQItBACBGYzqEqzScypnOoTZOJjEMYQgQaCCECDYQQgQZCiEADIUSggRAi0EAIEWgghAg0EEKE4gaivz5vHq21XiAzauYbiR/rAD2nc/DIiunIhMx8I/FjZVGvAmVGzebzX2u3+F0Ohk/nEJbMq4Xiy3okcU/o/UugGukccMYzfc16BnSzuKcK7km1RW5QBcqMclkQQs3R2VC1G4OlcwCw5WZX4EbjhiopGmKgu74vbOsMwzDrn8PHDh27pozB0jkAACDpu8GJXO8yVUVoiIGupB6+TwEAUO9/dAU2n+l74mNQ/CkuoIMKjvths6CRyCpMov+T172BDJTOIUFOK5FVMNBbNo1iow6EUdI5JHBqJXKD5kDc3Jn++ou7b/X/yQgGAuOkc7AkfdzcmU7cSDr7e5vIQG99nuqfc5jNZrPjY3t5OmQITgoeqvggUXfuAXDGeJHD9pRm4YCYzqEuzScyfheGEIEGQohAAyFEoIEQItBACBFoIIQINBBCBBoIIQLTOVSl+USuuCPxZSmvbmeUpMVi07oLsmgykXEIQ4hAAyFEoIEQItBACBEKGmhlxGJr8SR1f/9qE7M94bG1WCKLKv5KFSqQBmeFqAYOYQgR8gy0lTxrsbVYbC0W28gyAAAsR1rKW85ObYvbzo+JW25PeNzX1wDg/rsWW4snMuKxtVgGJ7bYtvyotzJisZ2dWpnwVP4WgHIBY3/4HQ8Ze/VnpashS7U2W8mzFtvZqeSIRZlhQY6BVkZcsWxn+Gkp/7I0A/EkvZU8Gz/xtJR/Wcrc7IRs5I7Qj7XYbx5u+8ylwYmt1tF05mYnAAz+UMq/TEc/vHAaYONBZhsAYPnhDIDrwjn2ft5sZOjBhYxoXyj7b/CHUv5lKf/D5Y3rrkM4FO7RH1ZGLEMzrKSlzM3OjeuuvR7ar002EoNv8i9L0V7izskwUMWfuet22k8d9/+S9lMAAK22dgDI5/ned4Y/7AaAVu+F0wAbv+25Mqjh4BBA9vsfaYDF9H2A039xt/L7/nO4tWLfrR8frAFcPs+eZ69nEOD+d8u7j9nk7NWf3RK92gvAy8Vdk7v2kmrD/ZkUoHa4Al3IA0CHtVW8cXHM9u692kd/VNiG3R3teu8yzNxbmN86B08AOvu8x6X3hedZALg31CLjdzUre/Vnt/BQVhvARtW9JNu0n1BqFYfcSfSjgmBwemrw3Xsw9A07rOy31y7bsfR6BgE2rgc/erAmjF/77OuKZl6W8vzPbYUuHWMh1p+yVnwhVfUKl9NGEWobiHL3ucqDDsDKiCdZAAA4/eZxAFj5bldtWIt9uQwAK19GNgAG3+uGKsNc99WbnQBrG1nx+AUAa7G/Tm1X7Nt9fggq51iHj73606ws3Jbt+e95qUXIaaMEMirQcf8v2bBrLfa6xdZiSbyZ8PcOB4dg47rL1mIZgsuD4rau6MybcVuLZWgGYOgbbo7WGwy72Pbcx4zskLxn/Ooc7PjeXblv1+3SzBD7Do77OXyT6D36U9B1W9jCvsnYOx2W00YBKu4HUu9Og+VIy6X7rmjml2G2Aq2MWIZmOsNPubl5PbRYbIa4H8jot3PoYmHhYvo+NGZIRlRGCwNtJT+9Bw0akhGV0WgIawA4hKnAXpHxnmhVaT6RTfoXHdEz+G08QgQaCCECDYQQgQZCiEADIUT8H0aJlrsaIFULAAAAAElFTkSuQmCC)"
   ]
  },
  {
   "cell_type": "code",
   "execution_count": null,
   "metadata": {
    "colab": {
     "base_uri": "https://localhost:8080/",
     "height": 36
    },
    "executionInfo": {
     "elapsed": 369,
     "status": "ok",
     "timestamp": 1710781133381,
     "user": {
      "displayName": "Md. Rajibul Islam",
      "userId": "08268230525053899276"
     },
     "user_tz": -360
    },
    "id": "WNYAnd1Mf-BC",
    "outputId": "588101ac-407e-43e7-a9c9-f1e233131e40"
   },
   "outputs": [
    {
     "data": {
      "application/vnd.google.colaboratory.intrinsic+json": {
       "type": "string"
      },
      "text/plain": [
       "'Sandy'"
      ]
     },
     "execution_count": 22,
     "metadata": {},
     "output_type": "execute_result"
    }
   ],
   "source": [
    "class Vehicle:\n",
    "    def __init__(self,driver,wheels,seats):\n",
    "        self.driver = driver\n",
    "        self.noofwheels = wheels\n",
    "        self.noofseats = seats\n",
    "\n",
    "class Cab(Vehicle):\n",
    "    pass\n",
    "\n",
    "cab_1 = Cab('Sandy',4, 2)\n",
    "cab_1.driver"
   ]
  },
  {
   "cell_type": "code",
   "execution_count": null,
   "metadata": {
    "colab": {
     "base_uri": "https://localhost:8080/"
    },
    "executionInfo": {
     "elapsed": 458,
     "status": "ok",
     "timestamp": 1710781533099,
     "user": {
      "displayName": "Md. Rajibul Islam",
      "userId": "08268230525053899276"
     },
     "user_tz": -360
    },
    "id": "4JnTkLEIgInV",
    "outputId": "241ecb13-42ff-4f92-8e1c-65941b7c15f6"
   },
   "outputs": [
    {
     "name": "stdout",
     "output_type": "stream",
     "text": [
      "SUV\n",
      "14.0\n",
      "green\n",
      "8.0\n"
     ]
    }
   ],
   "source": [
    "class Vehicle:\n",
    "    minimumrate = 50\n",
    "    def __init__(self,driver,wheels,seats,kms,bill):\n",
    "        self.driver = driver\n",
    "        self.noofwheels = wheels\n",
    "        self.noofseats = seats\n",
    "        self.running = kms\n",
    "        self.bill = bill\n",
    "\n",
    "    def rateperkm(self):\n",
    "        return self.bill/self.running\n",
    "\n",
    "class Cab(Vehicle):\n",
    "    minimumrate = 75\n",
    "    def __init__(self,driver,wheels,seats,kms,bill,cabtype):\n",
    "        Vehicle.__init__(self,driver,wheels,seats,kms,bill)\n",
    "        #super().__init__(driver,wheels,seats,kms,bill)\n",
    "        self.category = cabtype\n",
    "\n",
    "class Bus(Vehicle):\n",
    "    minimumrate = 25\n",
    "    def __init__(self,driver,wheels,seats,kms,bill,color):\n",
    "        Vehicle.__init__(self,driver,wheels,seats,kms,bill)\n",
    "        self.color = color\n",
    "\n",
    "cab_1 = Cab('Prateek', 4, 3, 50, 700, 'SUV')\n",
    "print(cab_1.category)\n",
    "print(cab_1.rateperkm())\n",
    "\n",
    "bus_1 = Bus('Dave', 4, 10, 50, 400, 'green')\n",
    "print(bus_1.color)\n",
    "print(bus_1.rateperkm())"
   ]
  },
  {
   "cell_type": "markdown",
   "metadata": {
    "id": "uFHnLxpyid1K"
   },
   "source": [
    "# Polymorphism\n",
    "\n",
    "Polymorphism in python is applied through method overriding and method overloading."
   ]
  },
  {
   "cell_type": "code",
   "execution_count": null,
   "metadata": {
    "colab": {
     "base_uri": "https://localhost:8080/"
    },
    "executionInfo": {
     "elapsed": 485,
     "status": "ok",
     "timestamp": 1710781908371,
     "user": {
      "displayName": "Md. Rajibul Islam",
      "userId": "08268230525053899276"
     },
     "user_tz": -360
    },
    "id": "H90L8fzAiiFp",
    "outputId": "a0c5eb01-4efc-4735-9699-aed4cbbb8c71"
   },
   "outputs": [
    {
     "name": "stdout",
     "output_type": "stream",
     "text": [
      "Parent class method\n",
      "Child Cab class method\n",
      "Child Bus class method\n"
     ]
    }
   ],
   "source": [
    "class Vehicle:\n",
    "    def message(self):\n",
    "        print(\"Parent class method\")\n",
    "\n",
    "class Cab(Vehicle):\n",
    "    def message(self):\n",
    "        print(\"Child Cab class method\")\n",
    "\n",
    "class Bus(Vehicle):\n",
    "    def message(self):\n",
    "        print(\"Child Bus class method\")\n",
    "\n",
    "\n",
    "x = Vehicle()\n",
    "x.message()\n",
    "\n",
    "y= Cab()\n",
    "y.message()\n",
    "\n",
    "z = Bus()\n",
    "z.message()"
   ]
  },
  {
   "cell_type": "code",
   "execution_count": null,
   "metadata": {
    "colab": {
     "base_uri": "https://localhost:8080/"
    },
    "executionInfo": {
     "elapsed": 550,
     "status": "ok",
     "timestamp": 1710782040428,
     "user": {
      "displayName": "Md. Rajibul Islam",
      "userId": "08268230525053899276"
     },
     "user_tz": -360
    },
    "id": "eOl9pbCkjjak",
    "outputId": "c2710957-ef0b-4680-c7c3-6c8236a374df"
   },
   "outputs": [
    {
     "name": "stdout",
     "output_type": "stream",
     "text": [
      "Welcome to Python World\n",
      "My message - Life is beautiful\n"
     ]
    }
   ],
   "source": [
    "class Message:\n",
    "\n",
    "    def details(self, phrase=None):\n",
    "\n",
    "        if phrase is not None:\n",
    "            print('My message - ' + phrase)\n",
    "        else:\n",
    "            print('Welcome to Python World')\n",
    "\n",
    "\n",
    "# Object\n",
    "x = Message()\n",
    "\n",
    "# Call the method with no parameter\n",
    "x.details()\n",
    "\n",
    "# Call the method with a parameter\n",
    "x.details('Life is beautiful')"
   ]
  },
  {
   "cell_type": "markdown",
   "metadata": {
    "id": "ZMY2fKutj1lB"
   },
   "source": [
    "# What is __str__?\n",
    "\n",
    "It is used to produce readable representation of the object."
   ]
  },
  {
   "cell_type": "code",
   "execution_count": null,
   "metadata": {
    "colab": {
     "base_uri": "https://localhost:8080/"
    },
    "executionInfo": {
     "elapsed": 458,
     "status": "ok",
     "timestamp": 1710782165156,
     "user": {
      "displayName": "Md. Rajibul Islam",
      "userId": "08268230525053899276"
     },
     "user_tz": -360
    },
    "id": "WCWwptaGjwFd",
    "outputId": "16c644d3-ff90-4096-f9d0-30e4ba47b0f4"
   },
   "outputs": [
    {
     "name": "stdout",
     "output_type": "stream",
     "text": [
      "Driver Name : Sandy ; Number of seats in cab : 2\n"
     ]
    }
   ],
   "source": [
    "class Vehicle:\n",
    "    def __init__(self,driver,wheels,seats):\n",
    "        self.driver = driver\n",
    "        self.noofwheels = wheels\n",
    "        self.noofseats = seats\n",
    "\n",
    "    # def __str__(self):\n",
    "    #     return \"Driver Name : \" + self.driver + \" ; \" + \"Number of seats in cab : \" + str(self.noofseats)\n",
    "\n",
    "veh_1 = Vehicle(\"Sandy\", 4, 2)\n",
    "print(veh_1)"
   ]
  },
  {
   "cell_type": "markdown",
   "metadata": {
    "id": "NFQD1n6FkUBu"
   },
   "source": [
    "# Data Encapsulation\n",
    " * **private attribute**: having double underscore (__)\n",
    " * **public attribute**: no double underscore\n",
    "\n",
    "\n",
    "\n"
   ]
  },
  {
   "cell_type": "code",
   "execution_count": null,
   "metadata": {
    "colab": {
     "base_uri": "https://localhost:8080/",
     "height": 193
    },
    "executionInfo": {
     "elapsed": 637,
     "status": "error",
     "timestamp": 1710782587733,
     "user": {
      "displayName": "Md. Rajibul Islam",
      "userId": "08268230525053899276"
     },
     "user_tz": -360
    },
    "id": "Tk3VA2eIkCyY",
    "outputId": "af56cfa3-5ace-447e-e38b-cffc32cf2a09"
   },
   "outputs": [
    {
     "name": "stdout",
     "output_type": "stream",
     "text": [
      "premium\n"
     ]
    },
    {
     "ename": "AttributeError",
     "evalue": "'Flat' object has no attribute '__bhk'",
     "output_type": "error",
     "traceback": [
      "\u001b[0;31m---------------------------------------------------------------------------\u001b[0m",
      "\u001b[0;31mAttributeError\u001b[0m                            Traceback (most recent call last)",
      "\u001b[0;32m<ipython-input-31-87f94b7ad5c3>\u001b[0m in \u001b[0;36m<cell line: 9>\u001b[0;34m()\u001b[0m\n\u001b[1;32m      7\u001b[0m \u001b[0mprint\u001b[0m\u001b[0;34m(\u001b[0m\u001b[0mflat_1\u001b[0m\u001b[0;34m.\u001b[0m\u001b[0mtype\u001b[0m\u001b[0;34m)\u001b[0m\u001b[0;34m\u001b[0m\u001b[0;34m\u001b[0m\u001b[0m\n\u001b[1;32m      8\u001b[0m \u001b[0;34m\u001b[0m\u001b[0m\n\u001b[0;32m----> 9\u001b[0;31m \u001b[0mprint\u001b[0m\u001b[0;34m(\u001b[0m\u001b[0mflat_1\u001b[0m\u001b[0;34m.\u001b[0m\u001b[0m__bhk\u001b[0m\u001b[0;34m)\u001b[0m\u001b[0;34m\u001b[0m\u001b[0;34m\u001b[0m\u001b[0m\n\u001b[0m",
      "\u001b[0;31mAttributeError\u001b[0m: 'Flat' object has no attribute '__bhk'"
     ]
    }
   ],
   "source": [
    "class Flat:\n",
    "    def __init__(self):\n",
    "        self.type = \"premium\"\n",
    "        self.__bhk = \"3 BHK\"\n",
    "\n",
    "flat_1 = Flat()\n",
    "print(flat_1.type)\n",
    "\n",
    "print(flat_1.__bhk)"
   ]
  },
  {
   "cell_type": "markdown",
   "metadata": {
    "id": "yhVpTBrMm_Fx"
   },
   "source": [
    "# Getters and Setters (The Python Way)\n"
   ]
  },
  {
   "cell_type": "code",
   "execution_count": null,
   "metadata": {
    "colab": {
     "base_uri": "https://localhost:8080/"
    },
    "executionInfo": {
     "elapsed": 7,
     "status": "ok",
     "timestamp": 1710783005814,
     "user": {
      "displayName": "Md. Rajibul Islam",
      "userId": "08268230525053899276"
     },
     "user_tz": -360
    },
    "id": "RRwuienxnKiS",
    "outputId": "4ddcf001-821d-4182-dd86-c49b6e38047f"
   },
   "outputs": [
    {
     "name": "stdout",
     "output_type": "stream",
     "text": [
      "Sandy\n",
      "Sandy.Stewart@uber.com\n"
     ]
    }
   ],
   "source": [
    "class Vehicle:\n",
    "    def __init__(self,driver_firstname,driver_lastname):\n",
    "        self.fdriver = driver_firstname\n",
    "        self.ldriver = driver_lastname\n",
    "        self.email  = self.fdriver + '.' + self.ldriver + '@uber.com'\n",
    "\n",
    "veh_1 = Vehicle(\"Sandy\", \"Stewart\")\n",
    "\n",
    "print(veh_1.fdriver)\n",
    "\n",
    "print(veh_1.email)\n",
    "\n",
    "# veh_1.fdriver = 'Tom'\n",
    "# veh_1.fdriver\n",
    "\n",
    "# veh_1.email\n"
   ]
  },
  {
   "cell_type": "code",
   "execution_count": null,
   "metadata": {
    "colab": {
     "base_uri": "https://localhost:8080/"
    },
    "executionInfo": {
     "elapsed": 6,
     "status": "ok",
     "timestamp": 1710783202137,
     "user": {
      "displayName": "Md. Rajibul Islam",
      "userId": "08268230525053899276"
     },
     "user_tz": -360
    },
    "id": "DZcqmccCnWGL",
    "outputId": "9a171f78-3b9b-4670-aae3-696173bb2b7d"
   },
   "outputs": [
    {
     "name": "stdout",
     "output_type": "stream",
     "text": [
      "Sandy.Stewart@uber.com\n",
      "Tom.Stewart@uber.com\n"
     ]
    }
   ],
   "source": [
    "#Usage of property decorator\n",
    "\n",
    "class Vehicle:\n",
    "    def __init__(self,driver_firstname,driver_lastname):\n",
    "        self.fdriver = driver_firstname\n",
    "        self.ldriver = driver_lastname\n",
    "\n",
    "    @property\n",
    "    def email(self):\n",
    "        return self.fdriver + '.' + self.ldriver + '@uber.com'\n",
    "\n",
    "veh_1 = Vehicle(\"Sandy\", \"Stewart\")\n",
    "print(veh_1.email)\n",
    "\n",
    "veh_1.fdriver = 'Tom'\n",
    "print(veh_1.email)\n"
   ]
  },
  {
   "cell_type": "code",
   "execution_count": null,
   "metadata": {
    "colab": {
     "base_uri": "https://localhost:8080/"
    },
    "executionInfo": {
     "elapsed": 739,
     "status": "ok",
     "timestamp": 1710783482341,
     "user": {
      "displayName": "Md. Rajibul Islam",
      "userId": "08268230525053899276"
     },
     "user_tz": -360
    },
    "id": "U4DKhgfYolFS",
    "outputId": "27f8af9c-c907-4d30-f497-034e278908d0"
   },
   "outputs": [
    {
     "name": "stdout",
     "output_type": "stream",
     "text": [
      "Sandy.Stewart@uber.com\n",
      "deep\n",
      "bhalla\n"
     ]
    }
   ],
   "source": [
    "class Vehicle:\n",
    "    def __init__(self,driver_firstname,driver_lastname):\n",
    "        self.fdriver = driver_firstname\n",
    "        self.ldriver = driver_lastname\n",
    "\n",
    "    @property\n",
    "    def email(self):\n",
    "        return self.fdriver + '.' + self.ldriver + '@uber.com'\n",
    "\n",
    "    @email.setter  #(like assignment operator overloading in C++)\n",
    "    def email(self, address):\n",
    "        first = address[:address.find('.')]\n",
    "        last  = address[address.find('.')+1:address.find('@')]\n",
    "        self.fdriver = first\n",
    "        self.ldriver = last\n",
    "\n",
    "veh_1 = Vehicle(\"Sandy\", \"Stewart\")\n",
    "print(veh_1.email)\n",
    "\n",
    "veh_1.email = 'deep.bhalla@uber.com'\n",
    "print(veh_1.fdriver)\n",
    "print(veh_1.ldriver)\n",
    "\n"
   ]
  }
 ],
 "metadata": {
  "colab": {
   "authorship_tag": "ABX9TyMNEsCmvpi/WWjRVamgmnOF",
   "collapsed_sections": [
    "n5-sErZQTO3J",
    "JJGhA0Jca4KA",
    "R28j1JuNeZEZ",
    "uFHnLxpyid1K",
    "ZMY2fKutj1lB",
    "NFQD1n6FkUBu",
    "yhVpTBrMm_Fx"
   ],
   "provenance": []
  },
  "kernelspec": {
   "display_name": "Python 3",
   "name": "python3"
  },
  "language_info": {
   "codemirror_mode": {
    "name": "ipython",
    "version": 3
   },
   "file_extension": ".py",
   "mimetype": "text/x-python",
   "name": "python",
   "nbconvert_exporter": "python",
   "pygments_lexer": "ipython3",
   "version": "3.12.3"
  }
 },
 "nbformat": 4,
 "nbformat_minor": 0
}
